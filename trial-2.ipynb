{
 "cells": [
  {
   "cell_type": "markdown",
   "metadata": {},
   "source": [
    "## Some implementations of Frequency counting in a list\n",
    "1. Implementation (Using 2 loop)\n",
    "2. Implementation (Using 1 loop and dictionary)\n",
    "3. Implementation (Using 1 loop and tree)"
   ]
  },
  {
   "cell_type": "code",
   "execution_count": null,
   "metadata": {},
   "outputs": [],
   "source": [
    "#import library\n",
    "import random\n",
    "import time\n",
    "import memory_profiler\n",
    "import time"
   ]
  },
  {
   "cell_type": "code",
   "execution_count": null,
   "metadata": {},
   "outputs": [],
   "source": [
    "#function to generate number\n",
    "def Rand(num): \n",
    "    res = []\n",
    "    for j in range(num): \n",
    "        res.append (random.randint(10, 600))\n",
    "    return res"
   ]
  },
  {
   "cell_type": "markdown",
   "metadata": {},
   "source": [
    "## 1. Implementation (Using 2 loop)\n",
    "\n",
    "In this implementation there are 2 loops, the first loop is used for visit all the array elements, the second loop is used to counting the frequency for each member of array. The complexity near O(N)^2. "
   ]
  },
  {
   "cell_type": "code",
   "execution_count": null,
   "metadata": {},
   "outputs": [],
   "source": [
    "import numpy as np\n",
    "# source : https://www.geeksforgeeks.org/counting-frequencies-of-array-elements/\n",
    "# Python 3 program to count frequencies \n",
    "# of array items \n",
    "\n",
    "def countFreq(arr, n): \n",
    "    u =0\n",
    "    a = []\n",
    "    # Mark all array elements as not visited \n",
    "    visited = [False for i in range(n)] \n",
    "  \n",
    "    # Traverse through array elements  \n",
    "    # and count frequencies \n",
    "    for i in range(n): \n",
    "          \n",
    "        # Skip this element if already  \n",
    "        # processed \n",
    "        if (visited[i] == True): \n",
    "            continue\n",
    "  \n",
    "        # Count frequency \n",
    "        count = 1\n",
    "        for j in range(i + 1, n, 1): \n",
    "            if (arr[i] == arr[j]): \n",
    "                visited[j] = True\n",
    "                count += 1\n",
    "          \n",
    "        #print(arr[i], count) \n",
    "        a.append([arr[i],count])\n",
    "        #arr_counter[i][0] = arr[i] \n",
    "        #arr_counter[i][1] = count\n",
    "    a = np.array(a)\n",
    "    return a"
   ]
  },
  {
   "cell_type": "code",
   "execution_count": null,
   "metadata": {},
   "outputs": [],
   "source": [
    "m1 = memory_profiler.memory_usage()\n",
    "t1 = time.clock()\n",
    "angka = Rand(1000)\n",
    "countMe = countFreq(angka, len(list(angka)) ) \n",
    "countMe_sort = countMe[countMe[:,1].argsort()[::-1]]\n",
    "t2 = time.time()\n",
    "m2 = memory_profiler.memory_usage()\n",
    "time_diff = t2 - t1\n",
    "mem_diff = m2[0] - m1[0]\n",
    "#print(countMe_sort[:10])\n",
    "print(\"Time : --- %s seconds ---\" % (time.clock() - start_time))\n",
    "print(\"Memory Usage : --- %s MB ---\" % (mem_diff))"
   ]
  },
  {
   "cell_type": "code",
   "execution_count": null,
   "metadata": {},
   "outputs": [],
   "source": [
    "import memory_profiler\n",
    "import time\n",
    "angka = Rand(100000)\n",
    "start_time = time.clock()\n",
    "m1 = memory_profiler.memory_usage()\n",
    "countMe = countFreq(angka, len(list(angka)) ) \n",
    "countMe_sort = countMe[countMe[:,1].argsort()[::-1]]\n",
    "m2 = memory_profiler.memory_usage()\n",
    "print(m2)\n",
    "print(m1)\n",
    "mem_diff = m2[0] - m1[0]\n",
    "#print(countMe_sort[:10])\n",
    "print(\"Time : --- %s seconds ---\" % (time.clock() - start_time))\n",
    "print(\"Memory Usage : --- %s MB ---\" % (mem_diff))"
   ]
  },
  {
   "cell_type": "markdown",
   "metadata": {},
   "source": [
    "## 2. Implementation (Using 1 loop and dictionary)\n",
    "In this implementation there is one loop and the dictionary labelled with frekuensi, the first if is used to get count/increment the number that has been visited, the else is used to enter the number which has not been registered in dictionary.The complexity is near O(N)"
   ]
  },
  {
   "cell_type": "code",
   "execution_count": null,
   "metadata": {},
   "outputs": [],
   "source": [
    "#https://www.geeksforgeeks.org/counting-the-frequencies-in-a-list-using-dictionary-in-python/\n",
    "start_time = time.time()\n",
    "import numpy\n",
    "\n",
    "def countFreq2(number): \n",
    "    frekuensi = {}\n",
    "    i = 0\n",
    "    for n in number:\n",
    "        #print(n)\n",
    "        if n in frekuensi:\n",
    "            frekuensi[n] += 1\n",
    "        else:\n",
    "            frekuensi[n] = 1\n",
    "        i+=1\n",
    "    return frekuensi"
   ]
  },
  {
   "cell_type": "code",
   "execution_count": null,
   "metadata": {},
   "outputs": [],
   "source": [
    "m1 = memory_profiler.memory_usage()\n",
    "t1 = time.time()\n",
    "angka = Rand(1000)\n",
    "result = countFreq2(angka)\n",
    "sort_orders = sorted(result.items(), key=lambda x: x[1], reverse=True)[:10]\n",
    "t2 = time.time()\n",
    "m2 = memory_profiler.memory_usage()\n",
    "mem_diff = m2[0] - m1[0]\n",
    "#print(countMe_sort[:10])\n",
    "print(\"Time : --- %s seconds ---\" % (time.time() - start_time))\n",
    "print(\"Memory Usage : --- %s MB ---\" % (mem_diff))"
   ]
  },
  {
   "cell_type": "markdown",
   "metadata": {},
   "source": [
    "## 3. Implementation (Using 1 loop and tree)\n",
    "In this implementation there is one loop and the bst data structure. The loop is used to insert the value and key into the node. It is implemented in recursive way. The complexity is near O(N). The complexity is near O(N) + O(h) , O(N) refer to the array element + O(h) refer to the height of the tree"
   ]
  },
  {
   "cell_type": "code",
   "execution_count": null,
   "metadata": {},
   "outputs": [],
   "source": [
    "# source : https://www.geeksforgeeks.org/how-to-handle-duplicates-in-binary-search-tree/\n",
    "# Python3 program to implement basic operations  \n",
    "# (search, insert and delete) on a BST that handles  \n",
    "# duplicates by storing count with every node  \n",
    "la=[]\n",
    "# A utility function to create a new BST node  \n",
    "class newNode:  \n",
    "  \n",
    "    # Constructor to create a new node  \n",
    "    def __init__(self, data):  \n",
    "        self.key = data \n",
    "        self.count = 1\n",
    "        self.left = None\n",
    "        self.right = None\n",
    "  \n",
    "# A utility function to do inorder  \n",
    "# traversal of BST  \n",
    "def inorder(root): \n",
    "    if root != None: \n",
    "        inorder(root.left) \n",
    "        #print(root.key,\"(\", root.count,\")\",  end = \" \")\n",
    "        la.append([root.key,root.count])\n",
    "        inorder(root.right) \n",
    "  \n",
    "# A utility function to insert a new node  \n",
    "# with given key in BST  \n",
    "def insert(node, key): \n",
    "      \n",
    "    # If the tree is empty, return a new node  \n",
    "    if node == None: \n",
    "        k = newNode(key) \n",
    "        return k \n",
    "  \n",
    "    # If key already exists in BST, increment \n",
    "    # count and return  \n",
    "    if key == node.key: \n",
    "        (node.count) += 1\n",
    "        return node \n",
    "  \n",
    "    # Otherwise, recur down the tree  \n",
    "    if key < node.key:  \n",
    "        node.left = insert(node.left, key)  \n",
    "    else: \n",
    "        node.right = insert(node.right, key) \n",
    "  \n",
    "    # return the (unchanged) node pointer  \n",
    "    return node \n",
    "  \n",
    "    return root \n",
    "  "
   ]
  },
  {
   "cell_type": "code",
   "execution_count": null,
   "metadata": {},
   "outputs": [],
   "source": [
    "import numpy as np\n",
    "m1 = memory_profiler.memory_usage()\n",
    "t1 = time.clock()\n",
    "angka = Rand(1000)\n",
    "root = None\n",
    "\n",
    "for n in angka:\n",
    "    root = insert(root, n) \n",
    "    \n",
    "print(\"Inorder traversal of the given tree\")  \n",
    "inorder(root) \n",
    "la = np.array(la)\n",
    "la_sort = la[la[:,1].argsort()[::-1]]\n",
    "t2 = time.clock()\n",
    "m2 = memory_profiler.memory_usage()\n",
    "mem_diff = m2[0] - m1[0]\n",
    "print(\"Time : --- %s seconds ---\" % (time.time() - start_time))\n",
    "print(\"Memory Usage : --- %s MB ---\" % (mem_diff))"
   ]
  },
  {
   "cell_type": "markdown",
   "metadata": {},
   "source": [
    "### 1. Memory usage (Implementation Using 2 loop)\n",
    "![picture](img/test-1-mem.PNG)"
   ]
  },
  {
   "cell_type": "markdown",
   "metadata": {},
   "source": [
    "### 2. Memory usage (Implementation Using 1 loop and dictionary)\n",
    "![picture](img/test-2-mem.PNG)"
   ]
  },
  {
   "cell_type": "markdown",
   "metadata": {},
   "source": [
    "### 3. Memory usage (Implementation Using 1 loop and bst)\n",
    "![picture](img/test-3-mem.PNG)"
   ]
  },
  {
   "cell_type": "markdown",
   "metadata": {},
   "source": [
    "Based on the memory usage profiling using vprof library in python. It shows a difference in memory usage for 10,000 data. The  (running time and memory usage) simulations have shown that the implementation 1 (64 s and 1,313 MB), implementation 2 (0.74 s and 7.4 MB), and implementation 3 (3.6 s and 66.73 MB). The implementataion 2 has smaller computation time and memory usage compared to the others."
   ]
  },
  {
   "cell_type": "markdown",
   "metadata": {},
   "source": [
    "### Simulation (100 - 10000 data)\n",
    "![picture](img/time-memory-comparison.PNG)"
   ]
  },
  {
   "cell_type": "markdown",
   "metadata": {},
   "source": [
    "I have also simulate the data between 100-10000 data to give a performance comparison between the program. The scale in the vertical axes are diffrent between the graph."
   ]
  },
  {
   "cell_type": "code",
   "execution_count": null,
   "metadata": {},
   "outputs": [],
   "source": []
  }
 ],
 "metadata": {
  "kernelspec": {
   "display_name": "Python 3",
   "language": "python",
   "name": "python3"
  },
  "language_info": {
   "codemirror_mode": {
    "name": "ipython",
    "version": 3
   },
   "file_extension": ".py",
   "mimetype": "text/x-python",
   "name": "python",
   "nbconvert_exporter": "python",
   "pygments_lexer": "ipython3",
   "version": "3.7.6"
  }
 },
 "nbformat": 4,
 "nbformat_minor": 4
}
